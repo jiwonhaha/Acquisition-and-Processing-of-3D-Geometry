{
 "cells": [
  {
   "cell_type": "code",
   "execution_count": 26,
   "metadata": {},
   "outputs": [],
   "source": [
    "import trimesh as tm\n",
    "from halfedge_mesh.halfedge_mesh import *\n",
    "import numpy as np\n",
    "import meshplot as mp\n",
    "import matplotlib as mpl\n",
    "import matplotlib.cm as cm\n",
    "import matplotlib.pyplot as plt\n",
    "import igl\n",
    "import open3d as o3d\n",
    "from scipy.sparse import csr_matrix, eye \n",
    "from scipy.sparse.linalg import eigs, spsolve\n",
    "\n"
   ]
  },
  {
   "cell_type": "code",
   "execution_count": 27,
   "metadata": {},
   "outputs": [],
   "source": [
    "plane = tm.load(\"meshes/curvatures/plane.obj\")\n",
    "lilium_s = tm.load(\"meshes/curvatures/lilium_s.obj\")\n",
    "fandisk_ns = tm.load(\"meshes/smoothing/fandisk_ns.obj\")\n",
    "plane_ns = tm.load(\"meshes/smoothing/plane_ns.obj\")\n",
    "armadillo = tm.load(\"meshes/decomposition/armadillo.obj\")\n",
    "camel = tm.load(\"meshes/camel.obj\")\n",
    "bunny = tm.load(\"meshes/bunny.obj\")"
   ]
  },
  {
   "cell_type": "markdown",
   "metadata": {},
   "source": [
    "## Task 1"
   ]
  },
  {
   "cell_type": "code",
   "execution_count": 28,
   "metadata": {},
   "outputs": [],
   "source": [
    "\n",
    "def Mean_Curvature(mesh):\n",
    "    vertices = mesh.vertices\n",
    "    vertices_centered = vertices - np.mean(vertices, axis=0)\n",
    "    \n",
    "    A = np.eye(len(vertices))\n",
    "    \n",
    "    for i, neighbors in enumerate(mesh.vertex_neighbors):\n",
    "        for neighbor in neighbors:\n",
    "            A[i, neighbor] = -1 / len(neighbors)\n",
    "    \n",
    "    # Apply the Laplacian matrix to the vertices\n",
    "    result = np.dot(A, vertices_centered)\n",
    "    \n",
    "    # Calculate the mean curvature\n",
    "    H = np.linalg.norm(result, axis=1) / 2\n",
    "    \n",
    "    \n",
    "    return H\n"
   ]
  },
  {
   "cell_type": "code",
   "execution_count": null,
   "metadata": {},
   "outputs": [],
   "source": [
    "mean_curvature = Mean_Curvature(lilium_s)\n",
    "mp.plot(lilium_s.vertices, lilium_s.faces, mean_curvature)"
   ]
  },
  {
   "cell_type": "code",
   "execution_count": 30,
   "metadata": {},
   "outputs": [],
   "source": [
    "\n",
    "def compute_vertex_area(mesh):\n",
    "    faces_area = mesh.area_faces\n",
    "    faces = mesh.faces\n",
    "    \n",
    "    A = np.zeros(len(mesh.vertices))\n",
    "\n",
    "    # Iterate over each face once\n",
    "    for face_idx, face in enumerate(faces):\n",
    "        for vertex_idx in face:\n",
    "            A[vertex_idx] += faces_area[face_idx] / 3\n",
    "    \n",
    "    return A\n",
    "\n",
    "\n",
    "def Gauss_curvature(mesh):\n",
    "\n",
    "    thetas = np.zeros((mesh.vertices.shape[0],))\n",
    "\n",
    "    for face, angles in zip(mesh.faces, mesh.face_angles):\n",
    "        # Accumulate the angles\n",
    "        thetas[face] += angles\n",
    "    A = compute_vertex_area(mesh)\n",
    "    K = (2 * np.pi - thetas)/A\n",
    "    K =( K - np.min(K))/( np.max(K) - np.min(K))\n",
    "\n",
    "    return K\n",
    "    "
   ]
  },
  {
   "cell_type": "code",
   "execution_count": 31,
   "metadata": {},
   "outputs": [
    {
     "data": {
      "application/vnd.jupyter.widget-view+json": {
       "model_id": "9e75215e2a4e4a9ab78926d7afeb9d7a",
       "version_major": 2,
       "version_minor": 0
      },
      "text/plain": [
       "Renderer(camera=PerspectiveCamera(children=(DirectionalLight(color='white', intensity=0.6, position=(-0.367806…"
      ]
     },
     "metadata": {},
     "output_type": "display_data"
    },
    {
     "name": "stdout",
     "output_type": "stream",
     "text": [
      "(1500,)\n"
     ]
    }
   ],
   "source": [
    "K = Gauss_curvature(lilium_s)\n",
    "mp.plot(lilium_s.vertices, lilium_s.faces, K)\n",
    "print(lilium_s.area_faces.shape)"
   ]
  },
  {
   "cell_type": "markdown",
   "metadata": {},
   "source": [
    "### Task 2"
   ]
  },
  {
   "cell_type": "code",
   "execution_count": 32,
   "metadata": {},
   "outputs": [],
   "source": [
    "def first_ellipsoid(u,v):\n",
    "    #define a,b,c\n",
    "    a = 1\n",
    "    b = 2\n",
    "    c = 3\n",
    "\n",
    "    x_u = np.array([\n",
    "        -a * np.sin(u) * np.sin(v),\n",
    "        b * np.cos(u) * np.sin(v),\n",
    "        0\n",
    "    ])\n",
    "    x_v = np.array([\n",
    "        a * np.cos(u) * np.cos(v),\n",
    "        b * np.sin(u) * np.cos(v),\n",
    "        -c * np.sin(v)\n",
    "    ])\n",
    "\n",
    "    I = np.array([[x_u.T @ x_u, x_u.T @ x_v], [x_u.T @ x_v, x_v.T @ x_v]])\n",
    "\n",
    "    return x_u, x_v, I\n",
    "\n",
    "def second_ellipsoid(u,v):\n",
    "    #define a,b,c\n",
    "    a = 1\n",
    "    b = 2\n",
    "    c = 3\n",
    "\n",
    "    x_uu = np.array([\n",
    "        -a * np.cos(u) * np.sin(v),\n",
    "        -b * np.sin(u) * np.sin(v),\n",
    "        0\n",
    "    ])\n",
    "    x_uv = np.array([\n",
    "        -a * np.sin(u) * np.cos(v),\n",
    "        b * np.cos(u) * np.cos(v),\n",
    "        0\n",
    "    ])\n",
    "    x_vv = np.array([\n",
    "        -a * np.cos(u) * np.sin(v),\n",
    "        -b * np.sin(u) * np.sin(v),\n",
    "        -c * np.cos(v)\n",
    "    ])\n",
    "\n",
    "    x_u, x_v, _ = first_ellipsoid(u,v)\n",
    "\n",
    "    normal = np.cross(x_u, x_v)\n",
    "    normal /= np.linalg.norm(normal)\n",
    "\n",
    "    II = np.array([[x_uu.T @ normal, x_uv.T @ normal], [x_uv.T @ normal, x_vv @ normal]])\n",
    "\n",
    "\n",
    "\n",
    "    return x_uu, x_uv, x_vv, II"
   ]
  },
  {
   "cell_type": "code",
   "execution_count": 33,
   "metadata": {},
   "outputs": [],
   "source": [
    "def cal_norm_culvature(t_bar):\n",
    "    # u, v at point (a, 0, 0)\n",
    "    u = 0\n",
    "    v = np.pi / 2.\n",
    "\n",
    "    _, _, I = first_ellipsoid(u, v)\n",
    "    _, _, _, II = second_ellipsoid(u, v)\n",
    "\n",
    "    k_n = (t_bar.T @ II @ t_bar)/ (t_bar.T @ I @ t_bar)\n",
    "\n",
    "    return k_n"
   ]
  },
  {
   "cell_type": "code",
   "execution_count": 41,
   "metadata": {},
   "outputs": [
    {
     "data": {
      "image/png": "[encoded data removed]",
      "text/plain": [
       "<Figure size 640x480 with 1 Axes>"
      ]
     },
     "metadata": {},
     "output_type": "display_data"
    }
   ],
   "source": [
    "import matplotlib.pyplot as plt\n",
    "\n",
    "angle_values = np.linspace(0, 2 * np.pi, 2**8 + 1)\n",
    "\n",
    "curvature_values = [\n",
    "    cal_norm_culvature(np.array([np.cos(angle), np.sin(angle)]).T)\n",
    "    for angle in angle_values\n",
    "]\n",
    "plt.ylabel('Curvature')\n",
    "plt.xlabel('$\\\\theta / \\pi$')\n",
    "plt.plot(angle_values / np.pi, curvature_values)\n",
    "plt.show()"
   ]
  },
  {
   "cell_type": "markdown",
   "metadata": {},
   "source": [
    "### Task3"
   ]
  },
  {
   "cell_type": "code",
   "execution_count": 35,
   "metadata": {},
   "outputs": [],
   "source": [
    "def neighbor_neighbor(a, b, mesh):\n",
    "    faces = np.array(mesh.faces)\n",
    "    contains_a = np.any(faces == a, axis=1)\n",
    "    contains_b = np.any(faces == b, axis=1)\n",
    "    contains_both = contains_a & contains_b\n",
    "    relevant_faces = faces[contains_both]\n",
    "    neighbors = relevant_faces[np.logical_and(relevant_faces != a, relevant_faces != b)]\n",
    "    unique_neighbors = np.unique(neighbors.flatten())\n",
    "    if unique_neighbors.size == 2:\n",
    "        return unique_neighbors[0], unique_neighbors[1]\n",
    "    elif unique_neighbors.size == 1:\n",
    "        return unique_neighbors[0], None\n",
    "    else:\n",
    "        return None, None\n",
    "\n",
    "def cotangent_laplace_beltrami(mesh):\n",
    "    n_vertices = len(mesh.vertices)\n",
    "    row_indices = []\n",
    "    col_indices = []\n",
    "    data = []\n",
    "\n",
    "    for i, neighbors in enumerate(mesh.vertex_neighbors):\n",
    "        sum_cot = 0\n",
    "        for neighbor in neighbors:\n",
    "            n_f, n_b = neighbor_neighbor(i, neighbor, mesh)\n",
    "            \n",
    "            if n_f is not None:\n",
    "                vi_nf = mesh.vertices[i] - mesh.vertices[n_f]\n",
    "                vj_nf = mesh.vertices[neighbor] - mesh.vertices[n_f]\n",
    "                cos_alpha = np.dot(vi_nf, vj_nf) / (np.linalg.norm(vi_nf) * np.linalg.norm(vj_nf))\n",
    "                cot_alpha = 1 / np.tan(np.arccos(np.clip(cos_alpha, -1, 1)))\n",
    "            else:\n",
    "                cot_alpha = 0\n",
    "\n",
    "            if n_b is not None:\n",
    "                vi_nb = mesh.vertices[i] - mesh.vertices[n_b]\n",
    "                vj_nb = mesh.vertices[neighbor] - mesh.vertices[n_b]\n",
    "                cos_beta = np.dot(vi_nb, vj_nb) / (np.linalg.norm(vi_nb) * np.linalg.norm(vj_nb))\n",
    "                cot_beta = 1 / np.tan(np.arccos(np.clip(cos_beta, -1, 1)))\n",
    "            else:\n",
    "                cot_beta = 0\n",
    "\n",
    "            cot_weight = cot_alpha + cot_beta\n",
    "            if cot_weight > 0:\n",
    "                row_indices.append(i)\n",
    "                col_indices.append(neighbor)\n",
    "                data.append(cot_weight)\n",
    "                sum_cot += cot_weight\n",
    "\n",
    "        # Diagonal element\n",
    "        row_indices.append(i)\n",
    "        col_indices.append(i)\n",
    "        data.append(-sum_cot)\n",
    "\n",
    "    L = csr_matrix((data, (row_indices, col_indices)), shape=(n_vertices, n_vertices))\n",
    "\n",
    "    return L\n"
   ]
  },
  {
   "cell_type": "code",
   "execution_count": 36,
   "metadata": {},
   "outputs": [],
   "source": [
    "def mean_curvature_cot(mesh):\n",
    "    A = compute_vertex_area(mesh)\n",
    "    cot = cotangent_laplace_beltrami(mesh)\n",
    "    A = A.astype(np.float64)\n",
    "    print(A.shape, cot.shape)\n",
    "    H = 0.5 * (1 / A[:,np.newaxis]) * (cot @ mesh.vertices)\n",
    "    H_cot = np.linalg.norm(H, axis=1)\n",
    "\n",
    "    return H_cot\n",
    "    "
   ]
  },
  {
   "cell_type": "code",
   "execution_count": 12,
   "metadata": {},
   "outputs": [
    {
     "name": "stdout",
     "output_type": "stream",
     "text": [
      "(100,) (100, 100)\n"
     ]
    },
    {
     "data": {
      "application/vnd.jupyter.widget-view+json": {
       "model_id": "d14c0779c9cd4a49959418e683f4c684",
       "version_major": 2,
       "version_minor": 0
      },
      "text/plain": [
       "Renderer(camera=PerspectiveCamera(children=(DirectionalLight(color='white', intensity=0.6, position=(-0.150000…"
      ]
     },
     "metadata": {},
     "output_type": "display_data"
    },
    {
     "data": {
      "text/plain": [
       "<meshplot.Viewer.Viewer at 0x103d5e340>"
      ]
     },
     "execution_count": 12,
     "metadata": {},
     "output_type": "execute_result"
    }
   ],
   "source": [
    "mean_curv_cot = mean_curvature_cot(plane)\n",
    "mp.plot(plane.vertices, plane.faces, mean_curv_cot)"
   ]
  },
  {
   "cell_type": "markdown",
   "metadata": {},
   "source": [
    "### Task 4"
   ]
  },
  {
   "cell_type": "code",
   "execution_count": 13,
   "metadata": {},
   "outputs": [],
   "source": [
    "\n",
    "def neighbor_neighbor(a, b, mesh):\n",
    "    faces = np.array(mesh.faces)\n",
    "    contains_a = np.any(faces == a, axis=1)\n",
    "    contains_b = np.any(faces == b, axis=1)\n",
    "    contains_both = contains_a & contains_b\n",
    "    relevant_faces = faces[contains_both]\n",
    "    neighbors = relevant_faces[np.logical_and(relevant_faces != a, relevant_faces != b)]\n",
    "    unique_neighbors = np.unique(neighbors.flatten())\n",
    "    if unique_neighbors.size == 2:\n",
    "        return unique_neighbors[0], unique_neighbors[1]\n",
    "    elif unique_neighbors.size == 1:\n",
    "        return unique_neighbors[0], None\n",
    "    else:\n",
    "        return None, None\n",
    "\n",
    "def cotangent_laplace_beltrami_cont(mesh):\n",
    "    n_vertices = len(mesh.vertices)\n",
    "    row_indices = []\n",
    "    col_indices = []\n",
    "    data = []\n",
    "    A = compute_vertex_area(mesh)\n",
    "\n",
    "    for i, neighbors in enumerate(mesh.vertex_neighbors):\n",
    "        sum_cot = 0\n",
    "        for neighbor in neighbors:\n",
    "            n_f, n_b = neighbor_neighbor(i, neighbor, mesh)\n",
    "            \n",
    "            vi_nf = mesh.vertices[i] - mesh.vertices[n_f]\n",
    "            vj_nf = mesh.vertices[neighbor] - mesh.vertices[n_f]\n",
    "            cos_alpha = np.dot(vi_nf, vj_nf) / (np.linalg.norm(vi_nf) * np.linalg.norm(vj_nf))\n",
    "            cot_alpha = 1 / np.tan(np.arccos(np.clip(cos_alpha, -1, 1)))\n",
    "\n",
    "            vi_nb = mesh.vertices[i] - mesh.vertices[n_b]\n",
    "            vj_nb = mesh.vertices[neighbor] - mesh.vertices[n_b]\n",
    "            cos_beta = np.dot(vi_nb, vj_nb) / (np.linalg.norm(vi_nb) * np.linalg.norm(vj_nb))\n",
    "            cot_beta = 1 / np.tan(np.arccos(np.clip(cos_beta, -1, 1)))\n",
    "\n",
    "            cot_weight = cot_alpha + cot_beta\n",
    "            if cot_weight > 0:\n",
    "                area_sum = A[i] + A[neighbor]\n",
    "                cot_weight /= area_sum\n",
    "                row_indices.append(i)\n",
    "                col_indices.append(neighbor)\n",
    "                data.append(cot_weight)\n",
    "                sum_cot += cot_weight\n",
    "\n",
    "        # Diagonal element\n",
    "        row_indices.append(i)\n",
    "        col_indices.append(i)\n",
    "        data.append(-sum_cot)\n",
    "\n",
    "    L = csr_matrix((data, (row_indices, col_indices)), shape=(n_vertices, n_vertices))\n",
    "\n",
    "    return L\n"
   ]
  },
  {
   "cell_type": "code",
   "execution_count": 14,
   "metadata": {},
   "outputs": [],
   "source": [
    "    \n",
    "def mesh_reconstruction(mesh, k):\n",
    "\n",
    "    # Compute sparse Laplace-Beltrami matrix\n",
    "    csr_L = cotangent_laplace_beltrami_cont(mesh)\n",
    "    print(csr_L.shape)\n",
    "\n",
    "    _, e = eigs(csr_L, k=k, which='SM')\n",
    "    e = e.real\n",
    "\n",
    "    smooth_mesh = mesh.copy()\n",
    "\n",
    "\n",
    "    vertices = smooth_mesh.vertices\n",
    "    smooth_vertices = np.zeros(smooth_mesh.vertices.shape)\n",
    "\n",
    "    for channel in range(3):\n",
    "        smooth_vertices[:,channel] = np.sum((vertices[:,channel].T @ e) * e, axis = 1)\n",
    "    smooth_mesh.vertices = smooth_vertices\n",
    "    \n",
    "    return smooth_mesh\n",
    "\n"
   ]
  },
  {
   "cell_type": "code",
   "execution_count": 88,
   "metadata": {},
   "outputs": [
    {
     "name": "stdout",
     "output_type": "stream",
     "text": [
      "(25193, 25193)\n"
     ]
    }
   ],
   "source": [
    "reconstructed_mesh = mesh_reconstruction(armadillo, 15)"
   ]
  },
  {
   "cell_type": "code",
   "execution_count": null,
   "metadata": {},
   "outputs": [],
   "source": [
    "o3d.io.write_triangle_mesh('reconstructed_armadillo_15.obj', reconstructed_mesh.as_open3d)"
   ]
  },
  {
   "cell_type": "markdown",
   "metadata": {},
   "source": [
    "### Task 5"
   ]
  },
  {
   "cell_type": "code",
   "execution_count": 16,
   "metadata": {},
   "outputs": [],
   "source": [
    "\n",
    "def uniform_laplace_beltrami(mesh):\n",
    "    n_vertices = len(mesh.vertices)\n",
    "    row_indices = []\n",
    "    col_indices = []\n",
    "    data = []\n",
    "\n",
    "    for i, neighbors in enumerate(mesh.vertex_neighbors):\n",
    "        n_neighbors = len(neighbors)\n",
    "        if n_neighbors > 0:\n",
    "            weight = 1.0 / n_neighbors  # Uniform weight\n",
    "\n",
    "            for neighbor in neighbors:\n",
    "                row_indices.append(i)\n",
    "                col_indices.append(neighbor)\n",
    "                data.append(weight)\n",
    "\n",
    "            row_indices.append(i)\n",
    "            col_indices.append(i)\n",
    "            data.append(-1.0)  \n",
    "\n",
    "    L = csr_matrix((data, (row_indices, col_indices)), shape=(n_vertices, n_vertices))\n",
    "\n",
    "    return L\n"
   ]
  },
  {
   "cell_type": "code",
   "execution_count": 17,
   "metadata": {},
   "outputs": [],
   "source": [
    "def explicit_mesh_smoothing(mesh, lamda, max_iter = 10):\n",
    "    smoothed_mesh = mesh.copy()\n",
    "    \n",
    "\n",
    "    for i in range(max_iter):\n",
    "        L = uniform_laplace_beltrami(smoothed_mesh)\n",
    "        smoothed_mesh.vertices += lamda * L @ smoothed_mesh.vertices\n",
    "\n",
    "    return smoothed_mesh"
   ]
  },
  {
   "cell_type": "code",
   "execution_count": 18,
   "metadata": {},
   "outputs": [
    {
     "data": {
      "text/plain": [
       "True"
      ]
     },
     "execution_count": 18,
     "metadata": {},
     "output_type": "execute_result"
    }
   ],
   "source": [
    "explicit_mesh = explicit_mesh_smoothing(fandisk_ns, 3)\n",
    "\n",
    "igl.write_obj('task5/fandiskns_001.obj', explicit_mesh.vertices, explicit_mesh.faces)"
   ]
  },
  {
   "cell_type": "markdown",
   "metadata": {},
   "source": [
    "### Task 6"
   ]
  },
  {
   "cell_type": "code",
   "execution_count": 59,
   "metadata": {},
   "outputs": [],
   "source": [
    "\n",
    "def implicit_mesh_smoothing(mesh, lamda, max_iter = 10):\n",
    "    smoothed_mesh = mesh.copy()\n",
    "    \n",
    "    # Number of vertices\n",
    "    n_vertices = len(mesh.vertices)\n",
    "\n",
    "    for i in range(max_iter):\n",
    "        L = uniform_laplace_beltrami(smoothed_mesh)\n",
    "        left = eye(n_vertices, format='csr') - lamda * L\n",
    "        \n",
    "        smoothed_mesh.vertices = spsolve(left, smoothed_mesh.vertices)\n",
    "\n",
    "    return smoothed_mesh\n"
   ]
  },
  {
   "cell_type": "code",
   "execution_count": 56,
   "metadata": {},
   "outputs": [],
   "source": [
    "\n",
    "def implicit_discrete_mesh_smoothing(mesh, lamda, max_iter = 10):\n",
    "    smoothed_mesh = mesh.copy()\n",
    "    n_vertices = len(mesh.vertices)\n",
    "\n",
    "    for i in range(max_iter):\n",
    "        L = cotangent_laplace_beltrami(smoothed_mesh)\n",
    "        left = eye(n_vertices, format='csr') - lamda * L\n",
    "        \n",
    "        smoothed_mesh.vertices = spsolve(left, smoothed_mesh.vertices)\n",
    "\n",
    "    return smoothed_mesh"
   ]
  },
  {
   "cell_type": "code",
   "execution_count": 64,
   "metadata": {},
   "outputs": [
    {
     "data": {
      "text/plain": [
       "True"
      ]
     },
     "execution_count": 64,
     "metadata": {},
     "output_type": "execute_result"
    }
   ],
   "source": [
    "implicit_mesh = implicit_mesh_smoothing(fandisk_ns, 0.1, max_iter=10)\n",
    "\n",
    "igl.write_obj('task6/iter10.obj', implicit_mesh.vertices, implicit_mesh.faces)"
   ]
  },
  {
   "cell_type": "markdown",
   "metadata": {},
   "source": [
    "### Task 7"
   ]
  },
  {
   "cell_type": "code",
   "execution_count": 21,
   "metadata": {},
   "outputs": [],
   "source": [
    "\n",
    "def add_noise(mesh):\n",
    "    \n",
    "    magnitude = mesh.scale / 10.0\n",
    "\n",
    "    random_noise = np.random.normal(0, magnitude, mesh.vertices.shape)\n",
    "    \n",
    "    noisy_mesh = mesh.copy()\n",
    "    noisy_mesh.vertices += random_noise\n",
    "\n",
    "    return noisy_mesh\n"
   ]
  },
  {
   "cell_type": "code",
   "execution_count": 40,
   "metadata": {},
   "outputs": [
    {
     "data": {
      "text/plain": [
       "True"
      ]
     },
     "execution_count": 40,
     "metadata": {},
     "output_type": "execute_result"
    }
   ],
   "source": [
    "noisy_fandisk = add_noise(fandisk_ns)\n",
    "\n",
    "implicit_noisy_fandisk = implicit_discrete_mesh_smoothing(noisy_fandisk, 1)\n",
    "igl.write_obj('task7/im_dis_fandisk_1_01.obj', implicit_noisy_fandisk.vertices, implicit_noisy_fandisk.faces)"
   ]
  },
  {
   "cell_type": "code",
   "execution_count": 22,
   "metadata": {},
   "outputs": [
    {
     "data": {
      "text/plain": [
       "True"
      ]
     },
     "execution_count": 22,
     "metadata": {},
     "output_type": "execute_result"
    }
   ],
   "source": [
    "noisy_fandisk = add_noise(fandisk_ns)\n",
    "\n",
    "implicit_noisy_fandisk = implicit_mesh_smoothing(noisy_fandisk, 5)\n",
    "explicit_noisy_fandisk = explicit_mesh_smoothing(noisy_fandisk, 1)\n",
    "igl.write_obj('task7/ex_fandisk_1_0001.obj', explicit_noisy_fandisk.vertices, explicit_noisy_fandisk.faces)\n",
    "igl.write_obj('task7/im_fandisk_5_01.obj', implicit_noisy_fandisk.vertices, implicit_noisy_fandisk.faces)"
   ]
  }
 ],
 "metadata": {
  "interpreter": {
   "hash": "02c1a2e1b446f24283db379533f0f3f876a6350ec40172d1fba7044e059cd85c"
  },
  "kernelspec": {
   "display_name": "Python 3.9.12 ('koreait')",
   "language": "python",
   "name": "python3"
  },
  "language_info": {
   "codemirror_mode": {
    "name": "ipython",
    "version": 3
   },
   "file_extension": ".py",
   "mimetype": "text/x-python",
   "name": "python",
   "nbconvert_exporter": "python",
   "pygments_lexer": "ipython3",
   "version": "3.9.18"
  },
  "orig_nbformat": 4
 },
 "nbformat": 4,
 "nbformat_minor": 2
}
